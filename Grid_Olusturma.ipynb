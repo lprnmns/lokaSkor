{
 "cells": [
  {
   "cell_type": "code",
   "execution_count": 1,
   "id": "f83d1fad-9b82-4e95-b83f-9071b2df389e",
   "metadata": {},
   "outputs": [
    {
     "name": "stdout",
     "output_type": "stream",
     "text": [
      "İşlem tamamlandı!\n",
      "Yenimahalle sınırları içine 150 metre aralıklarla toplam 10318 adet potansiyel nokta yerleştirildi.\n",
      "Sonuçlar 'yenimahalle_grid.geojson' dosyasına kaydedildi.\n"
     ]
    }
   ],
   "source": [
    "import geopandas as gpd\n",
    "import numpy as np\n",
    "from shapely.geometry import Point\n",
    "\n",
    "# --- AYARLAR ---\n",
    "# İki nokta arasındaki mesafe (metre cinsinden). Düşük değer daha hassas ama daha yavaş analiz demek.\n",
    "GRID_SIZE_METERS = 150 \n",
    "# Girdi ve Çıktı Dosyaları\n",
    "INPUT_BOUNDARY_FILE = \"yenimahalle_sinir.geojson\"\n",
    "OUTPUT_GRID_FILE = \"yenimahalle_grid.geojson\"\n",
    "\n",
    "\n",
    "# 1. Ana sınırı oku\n",
    "try:\n",
    "    yenimahalle = gpd.read_file(INPUT_BOUNDARY_FILE)\n",
    "except Exception as e:\n",
    "    print(f\"Hata: '{INPUT_BOUNDARY_FILE}' dosyası okunamadı. Lütfen dosyanın doğru yerde olduğundan emin ol. Hata: {e}\")\n",
    "    # Hata durumunda hücrenin çalışmasını durdur\n",
    "    raise e\n",
    "\n",
    "# Alan hesabı için uygun bir CRS'e geçelim (UTM)\n",
    "yenimahalle_utm = yenimahalle.to_crs(epsg=32636)\n",
    "\n",
    "# 2. Sınırların en uç noktalarını (bounding box) bul\n",
    "minx, miny, maxx, maxy = yenimahalle_utm.total_bounds\n",
    "\n",
    "# 3. Bu sınırlar içinde düzenli aralıklarla bir nokta ızgarası oluştur\n",
    "x_coords = np.arange(minx, maxx, GRID_SIZE_METERS)\n",
    "y_coords = np.arange(miny, maxy, GRID_SIZE_METERS)\n",
    "grid_points = [Point(x, y) for x in x_coords for y in y_coords]\n",
    "\n",
    "grid_gdf = gpd.GeoDataFrame(geometry=grid_points, crs=\"EPSG:32636\")\n",
    "\n",
    "# 4. Sadece Yenimahalle sınırları İÇİNDE kalan noktaları tut\n",
    "# sjoin ile coğrafi birleştirme yaparak bunu kolayca yapabiliriz\n",
    "points_within = gpd.sjoin(grid_gdf, yenimahalle_utm, how=\"inner\", predicate='within')\n",
    "\n",
    "# İhtiyacımız olmayan fazla sütunları atalım\n",
    "points_within = points_within[['geometry']]\n",
    "\n",
    "# 5. Sonucu tekrar standart enlem/boylam formatına (WGS84) çevir\n",
    "final_grid = points_within.to_crs(epsg=4326)\n",
    "\n",
    "# 6. Oluşturulan ızgarayı yeni bir GeoJSON dosyasına kaydet\n",
    "final_grid.to_file(OUTPUT_GRID_FILE, driver='GeoJSON')\n",
    "\n",
    "print(f\"İşlem tamamlandı!\")\n",
    "print(f\"Yenimahalle sınırları içine {GRID_SIZE_METERS} metre aralıklarla toplam {len(final_grid)} adet potansiyel nokta yerleştirildi.\")\n",
    "print(f\"Sonuçlar '{OUTPUT_GRID_FILE}' dosyasına kaydedildi.\")"
   ]
  },
  {
   "cell_type": "code",
   "execution_count": null,
   "id": "977d455b-179c-4345-8e84-2761343f4963",
   "metadata": {},
   "outputs": [],
   "source": []
  }
 ],
 "metadata": {
  "kernelspec": {
   "display_name": "Python 3 (ipykernel)",
   "language": "python",
   "name": "python3"
  },
  "language_info": {
   "codemirror_mode": {
    "name": "ipython",
    "version": 3
   },
   "file_extension": ".py",
   "mimetype": "text/x-python",
   "name": "python",
   "nbconvert_exporter": "python",
   "pygments_lexer": "ipython3",
   "version": "3.12.3"
  }
 },
 "nbformat": 4,
 "nbformat_minor": 5
}
